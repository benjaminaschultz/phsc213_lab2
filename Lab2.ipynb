{
 "cells": [
  {
   "cell_type": "markdown",
   "metadata": {
    "deletable": false,
    "editable": false
   },
   "source": [
    "# PHSC 213 Lab 2: Wave Superposition"
   ]
  },
  {
   "cell_type": "markdown",
   "metadata": {
    "deletable": false,
    "editable": false
   },
   "source": [
    "In this lab, we'll be exploring wave superposition, inference and doing some signal processing. We won't be collecting any data today. Instead we'll be working with files that contain audio recordings.\n",
    "\n",
    "In our first lab, we connected a speaker to a microphone to show how we could convert a sound wave (pressure wave) into an electrical signal which we could observe on an oscilloscope.\n",
    "\n",
    "When your computer plays a sound, a similar, but inverse process occurs. An audio file contains the amplitude of a voltage signal which your computer sends to the the speaker (or headphones). The speaker membrane is driven to vibrate by the voltage, and this generates sound waves which you can hear.\n",
    "\n",
    "We'll be using some samples of different instruments from [this](https://www.philharmonia.co.uk/explore/sound_samples) collection of free recordings which we've converted into wav format."
   ]
  },
  {
   "cell_type": "markdown",
   "metadata": {},
   "source": [
    "Execute the cell below to import some libraries we'll use in the lab."
   ]
  },
  {
   "cell_type": "code",
   "execution_count": 2,
   "metadata": {
    "deletable": false,
    "editable": false
   },
   "outputs": [],
   "source": [
    "%matplotlib notebook\n",
    "from audio_analyzer import *"
   ]
  },
  {
   "cell_type": "markdown",
   "metadata": {},
   "source": [
    "Enter your name"
   ]
  },
  {
   "cell_type": "code",
   "execution_count": 3,
   "metadata": {},
   "outputs": [],
   "source": [
    "student_name = 'your_name'"
   ]
  },
  {
   "cell_type": "markdown",
   "metadata": {
    "deletable": false,
    "editable": false
   },
   "source": [
    "## Part 1: Beat Frequency\n",
    "\n",
    "First we'll simulate the output of two speakers and have them play slightly different frequencies. The sound wave $y$ you'd record in such a scenario is given by\n",
    "\n",
    "$$ y(x=x_{mic}, t) = A\\left(\\cos(\\omega t) + \\cos((\\omega + \\delta \\omega) t)\\right)$$\n",
    "\n",
    "where $x_{mic}$ is the position of the microphone, $\\omega$ is the angular frequency and $\\delta \\omega$ is the difference in angular  frequency. We'll use some trig identities and the substitution $\\bar{\\omega} = \\omega + \\delta \\omega/2$ to simplify this expression a bit.\n",
    "\n",
    "$$ y(t) = A\\left(\\cos\\left((\\bar\\omega  - \\delta\\omega/2) t\\right) + \\cos\\left((\\bar\\omega + \\delta \\omega/2) t\\right) \\right)$$\n",
    "\n",
    "We can use the identity\n",
    "$$\\cos(a + b) = \\cos(a)\\cos(b) - \\sin(a)\\sin(b)$$ \n",
    "\n",
    "To arrive at\n",
    "\n",
    "$$ y(t) = A (\\cos(\\bar\\omega t)\\cos(-\\delta\\omega/2 t) - \\sin(\\bar\\omega t)\\sin(-\\delta\\omega/2 t) + \\cos(\\bar\\omega t)\\cos(\\delta\\omega/2 t) - \\sin(\\bar\\omega t)\\sin(\\delta\\omega/2 t)) $$\n",
    "\n",
    "Using the fact that cosine is even and sine is odd, we can cancel the all of the sine terms and arrive at\n",
    "\n",
    "$$ y(t) = 2 A \\cos(\\bar\\omega t)cos(\\delta \\omega t/2)$$\n",
    "\n",
    "Compare this expression to the simulated signal below. You can also listen to the sample.\n"
   ]
  },
  {
   "cell_type": "code",
   "execution_count": null,
   "metadata": {
    "deletable": false,
    "editable": false,
    "scrolled": false
   },
   "outputs": [],
   "source": [
    "ts = np.linspace(0, 3, 44100*3)\n",
    "ys = generate_beats(frequency=440, ts=ts)\n",
    "plt.figure()\n",
    "plt.plot(ts, ys, '-k')\n",
    "plt.xlabel('Time (s)')\n",
    "plt.ylabel('Amplitude')\n",
    "plt.show()\n",
    "with open('beats_{}.wav'.format(student_name), 'wb') as outf:\n",
    "    sf.write(file=outf, data=ys, samplerate=44100)\n",
    "display.display(Audio('beats_{}.wav'.format(student_name)))"
   ]
  },
  {
   "cell_type": "markdown",
   "metadata": {
    "deletable": false,
    "editable": false
   },
   "source": [
    "What is the difference between the two frequencies, $\\delta \\omega$? "
   ]
  },
  {
   "cell_type": "markdown",
   "metadata": {},
   "source": [
    "Answer:"
   ]
  },
  {
   "cell_type": "markdown",
   "metadata": {
    "deletable": false,
    "editable": false
   },
   "source": [
    "What is the average frequency of the waves being played, $\n",
    "\\bar\\omega$? "
   ]
  },
  {
   "cell_type": "markdown",
   "metadata": {},
   "source": [
    "Answer:"
   ]
  },
  {
   "cell_type": "markdown",
   "metadata": {
    "deletable": false,
    "editable": false
   },
   "source": [
    "## Part 2: Inferometry\n",
    "\n",
    "Next, we'll simulate what you'd hear from two speakers playing the exact same frequency, in phase but at different volumes (amplitudes). They start at the same location and then one of them is gradually moved away from you. The pressure was in this case is given by\n",
    "\n",
    "$$y(x=x_{mic}, t) = A_1 \\cos(\\omega t) + A_2\\cos(\\omega t + k \\delta x)$$\n",
    "\n",
    "Where $x_{mic}$ is the position of the microphone, $A_1$, $A_2$ are the amplitudes of the two waves, $\\omega$ is the frequency, $k$ is the wave number (remember $\\omega = k v_{sound}$) and $\\delta x$ is the amount the speaker has moved. $v_{sound} = 334m/s$\n",
    "\n",
    "Examine the plot below of $y(t)$. Consider what happens for important values of $k\\delta x$. "
   ]
  },
  {
   "cell_type": "code",
   "execution_count": null,
   "metadata": {
    "deletable": false,
    "editable": false
   },
   "outputs": [],
   "source": [
    "ts = np.linspace(0, 5, 44100 * 5)\n",
    "ys = generate_phase_sweep(frequency=440, ts=ts)\n",
    "plt.figure()\n",
    "plt.plot(ts, ys,'-k')\n",
    "plt.xlabel('Time (s)')\n",
    "plt.ylabel('Amplitude')\n",
    "plt.show()\n",
    "\n",
    "with open('inf_{}.wav'.format(student_name), 'wb') as outf:\n",
    "    sf.write(file=outf, data=ys, samplerate=44100)\n",
    "display.display(Audio('inf_{}.wav'.format(student_name)))"
   ]
  },
  {
   "cell_type": "markdown",
   "metadata": {
    "deletable": false,
    "editable": false
   },
   "source": [
    "How far did the speaker move?"
   ]
  },
  {
   "cell_type": "markdown",
   "metadata": {},
   "source": [
    "Answer:"
   ]
  },
  {
   "cell_type": "markdown",
   "metadata": {
    "deletable": false,
    "editable": false
   },
   "source": [
    "\n",
    " What are the relative amplitudes of the waves generated by the two speakers?"
   ]
  },
  {
   "cell_type": "markdown",
   "metadata": {},
   "source": [
    "Answer:"
   ]
  },
  {
   "cell_type": "markdown",
   "metadata": {
    "deletable": false,
    "editable": false
   },
   "source": [
    "This is essentially and inferometer - by measuring the interface patterns of waves, you have deduced a change in distance between two sources.\n",
    "\n",
    "In future chapters, we'll see many analogs of this configuration, often with electromagnetic waves."
   ]
  },
  {
   "cell_type": "markdown",
   "metadata": {
    "deletable": false,
    "editable": false
   },
   "source": [
    "## Part 3: Synthesizers\n",
    "In the examples below we will create a synthesizer by performing Fourier analysis on samples of real-world instruments\n",
    "\n",
    "![image](https://i.ytimg.com/vi/X9PhUT9e2wY/hqdefault.jpg)\n",
    "\n",
    "In each example, you will see a zoomed in sample of the sound wave produced by the instrument. This is similar to what you would have seen if you had played the instrument directly into a speaker connected to an oscilloscope, as you did in Lab 1.\n",
    "\n",
    "Using this sample, we use the computer to compute the fourier series (or more specifically a Discrete Fourier Transform). This process results in a list of amplitude coefficients and phase angles for waves of different amplitudes and phases.\n",
    "\n",
    "$$ y(x=x_{mic},t) = \\sum\\limits_{n=0}^\\infty A_n \\cos(\\omega t + \\phi_n)$$\n",
    "\n",
    "where $x_{mic}$ is the position of microphone, and $y$ is the magnitude of the incident sound wave. Using this list of $A_n$, we go on to compute a \"power spectrum,\" which is essentially the square of the amplitude of frequency component (disregarding phase angle). We can use this to easily determine \"how much\" of a given frequency is present in a given input sound wave.\n",
    "\n",
    "$$ P(\\omega) = A^2(\\omega) $$\n",
    "\n",
    "In a the case of a perfectly periodic signal, $A(\\omega)$ is 0 except at harmonics; in the examples below the functions are not perfectly periodic because finite sample sizes and the fact the real-world instruments to not produce perfect period sound waves. In the charts displayed below, we will plot $\\log(P(\\omega))$ because the value of the peaks vary over many orders of magnitude and the logarithm makes the easily visible on the same chart.\n",
    "\n",
    "Using numerical methods, the code identifies peaks in each of the power spectra.\n",
    "\n",
    "In order to reconstruct the signals, we also need to identify the correct phase angles to use. Using the position of the maximum amplitudes identified above, we can select the phase angles $\\phi_n$ from the output of the discrete Fourier transform. This is a bit beyond the scope of the lab, but if you'd like to understand more, ask your instructor.\n",
    "\n",
    "Finally, we reconstruct the input signal by adding up sine waves of the appropriate amplitudes and phases, thus creating a \"synthesizer.\"\n",
    "\n",
    "We'll start by looking at a sine wave."
   ]
  },
  {
   "cell_type": "code",
   "execution_count": null,
   "metadata": {
    "deletable": false,
    "editable": false,
    "scrolled": false
   },
   "outputs": [],
   "source": [
    "selected_instrument = 'sine'\n",
    "full_analysis(selected_instrument, student_name)"
   ]
  },
  {
   "cell_type": "markdown",
   "metadata": {
    "deletable": false,
    "editable": false
   },
   "source": [
    "Where is the peak in the power spectrum? Compute the frequency by measuring the period of this sine wave from the chart. Do you get the same answer?\n"
   ]
  },
  {
   "cell_type": "markdown",
   "metadata": {},
   "source": [
    "Answer:"
   ]
  },
  {
   "cell_type": "markdown",
   "metadata": {},
   "source": [
    "Does the synthesized wave and input wave sound the same?\n"
   ]
  },
  {
   "cell_type": "markdown",
   "metadata": {},
   "source": [
    "Answer:"
   ]
  },
  {
   "cell_type": "markdown",
   "metadata": {
    "deletable": false,
    "editable": false
   },
   "source": [
    "Next we'll look at the power spectrum of a square wave and build it up from its Fourier series"
   ]
  },
  {
   "cell_type": "code",
   "execution_count": null,
   "metadata": {
    "deletable": false,
    "editable": false
   },
   "outputs": [],
   "source": [
    "full_analysis('square_wave', student_name, rel_height=0.5)"
   ]
  },
  {
   "cell_type": "markdown",
   "metadata": {
    "deletable": false,
    "editable": false
   },
   "source": [
    "How does the frequency content of a square wave compare to pure sine wave?\n"
   ]
  },
  {
   "cell_type": "markdown",
   "metadata": {},
   "source": [
    "Answer:"
   ]
  },
  {
   "cell_type": "markdown",
   "metadata": {
    "deletable": false,
    "editable": false
   },
   "source": [
    "Does the synthesized wave sound like original wave? What about the synthesized wave with only 4 frequency components?\n"
   ]
  },
  {
   "cell_type": "markdown",
   "metadata": {},
   "source": [
    "Answer:"
   ]
  },
  {
   "cell_type": "markdown",
   "metadata": {
    "deletable": false,
    "editable": false
   },
   "source": [
    "Next we'll look at the frequency content of a french horn playing A4 (440Hz)"
   ]
  },
  {
   "cell_type": "code",
   "execution_count": null,
   "metadata": {
    "scrolled": false
   },
   "outputs": [],
   "source": [
    "full_analysis('french_horn', student_name, t0=0.7, t1=0.8)"
   ]
  },
  {
   "cell_type": "markdown",
   "metadata": {
    "deletable": false,
    "editable": false
   },
   "source": [
    "Compare the frequency content of the French Horn to the square wave. Which one has more high-frequency sine waves?"
   ]
  },
  {
   "cell_type": "markdown",
   "metadata": {},
   "source": [
    "Answer:"
   ]
  },
  {
   "cell_type": "markdown",
   "metadata": {},
   "source": [
    "Does the synthesized wave sound similar to instrument? How does the synthesized sound wave compare to the source soundwave?"
   ]
  },
  {
   "cell_type": "markdown",
   "metadata": {},
   "source": [
    "Answer:"
   ]
  },
  {
   "cell_type": "markdown",
   "metadata": {
    "deletable": false,
    "editable": false
   },
   "source": [
    "What are the ratios of frequencies of the peaks in the power spectrum? Are they what you'd expect?"
   ]
  },
  {
   "cell_type": "markdown",
   "metadata": {},
   "source": [
    "Answer:"
   ]
  },
  {
   "cell_type": "markdown",
   "metadata": {
    "deletable": false,
    "editable": false
   },
   "source": [
    "Next we'll try to synthesize violin, flute and sax sounds"
   ]
  },
  {
   "cell_type": "code",
   "execution_count": null,
   "metadata": {
    "deletable": false,
    "editable": false,
    "scrolled": false
   },
   "outputs": [],
   "source": [
    "full_analysis('violin', student_name, t0=0.5, t1=0.6)"
   ]
  },
  {
   "cell_type": "code",
   "execution_count": null,
   "metadata": {
    "deletable": false,
    "editable": false,
    "scrolled": false
   },
   "outputs": [],
   "source": [
    "full_analysis('sax', student_name, t0=0.4, t1=0.5 )"
   ]
  },
  {
   "cell_type": "code",
   "execution_count": null,
   "metadata": {
    "deletable": false,
    "editable": false,
    "scrolled": false
   },
   "outputs": [],
   "source": [
    "full_analysis( 'flute', student_name, t0=0.4, t1=0.5)"
   ]
  },
  {
   "cell_type": "markdown",
   "metadata": {
    "deletable": false,
    "editable": false
   },
   "source": [
    "Is the frequency spacing of peaks in the power spectra different for different instruments?"
   ]
  },
  {
   "cell_type": "markdown",
   "metadata": {},
   "source": [
    "Answer:"
   ]
  },
  {
   "cell_type": "markdown",
   "metadata": {
    "deletable": false,
    "editable": false
   },
   "source": [
    "Which instruments have the least overtones/high frequency components?\n"
   ]
  },
  {
   "cell_type": "markdown",
   "metadata": {},
   "source": [
    "Answer:"
   ]
  },
  {
   "cell_type": "markdown",
   "metadata": {
    "deletable": false,
    "editable": false
   },
   "source": [
    "Which synthesizers sound the most like their instruments? How do their waveforms compare?\n"
   ]
  },
  {
   "cell_type": "markdown",
   "metadata": {},
   "source": [
    "Answer:"
   ]
  },
  {
   "cell_type": "markdown",
   "metadata": {
    "deletable": false,
    "editable": false
   },
   "source": [
    "What are some changes we could make to the synthesizer to make it more realistic?"
   ]
  },
  {
   "cell_type": "markdown",
   "metadata": {},
   "source": [
    "Answer:"
   ]
  },
  {
   "cell_type": "markdown",
   "metadata": {},
   "source": [
    "At the end of the lab period, go to File>Download>PDF via LaTeX and email your instructor the file"
   ]
  }
 ],
 "metadata": {
  "kernelspec": {
   "display_name": "Python 3",
   "language": "python",
   "name": "python3"
  },
  "language_info": {
   "codemirror_mode": {
    "name": "ipython",
    "version": 3
   },
   "file_extension": ".py",
   "mimetype": "text/x-python",
   "name": "python",
   "nbconvert_exporter": "python",
   "pygments_lexer": "ipython3",
   "version": "3.8.1"
  }
 },
 "nbformat": 4,
 "nbformat_minor": 2
}
